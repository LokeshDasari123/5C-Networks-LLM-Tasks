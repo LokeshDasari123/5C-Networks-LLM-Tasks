{
  "nbformat": 4,
  "nbformat_minor": 0,
  "metadata": {
    "colab": {
      "provenance": []
    },
    "kernelspec": {
      "name": "python3",
      "display_name": "Python 3"
    },
    "language_info": {
      "name": "python"
    },
    "widgets": {
      "application/vnd.jupyter.widget-state+json": {
        "6c9e71421828427c8dae7f065a8e3287": {
          "model_module": "@jupyter-widgets/controls",
          "model_name": "VBoxModel",
          "model_module_version": "1.5.0",
          "state": {
            "_dom_classes": [],
            "_model_module": "@jupyter-widgets/controls",
            "_model_module_version": "1.5.0",
            "_model_name": "VBoxModel",
            "_view_count": null,
            "_view_module": "@jupyter-widgets/controls",
            "_view_module_version": "1.5.0",
            "_view_name": "VBoxView",
            "box_style": "",
            "children": [
              "IPY_MODEL_d06cd32e764447e291c886bcf7bc5ec0",
              "IPY_MODEL_86a8d387494741f58f11bb2834e058c2",
              "IPY_MODEL_ab9fbc5e9eaf4cef916e36d9978b3f8e",
              "IPY_MODEL_042c5c74755c48ad8be33c94775db9ed"
            ],
            "layout": "IPY_MODEL_3ed8381114c1490791701fddb40532b1"
          }
        },
        "6e3a874f9571440d9f100246dd157671": {
          "model_module": "@jupyter-widgets/controls",
          "model_name": "HTMLModel",
          "model_module_version": "1.5.0",
          "state": {
            "_dom_classes": [],
            "_model_module": "@jupyter-widgets/controls",
            "_model_module_version": "1.5.0",
            "_model_name": "HTMLModel",
            "_view_count": null,
            "_view_module": "@jupyter-widgets/controls",
            "_view_module_version": "1.5.0",
            "_view_name": "HTMLView",
            "description": "",
            "description_tooltip": null,
            "layout": "IPY_MODEL_9a4af1eb4ba94cfdbc1f1845cd1b605a",
            "placeholder": "​",
            "style": "IPY_MODEL_0bd439a5aca34f4182d74acb35c842b8",
            "value": "<center> <img\nsrc=https://huggingface.co/front/assets/huggingface_logo-noborder.svg\nalt='Hugging Face'> <br> Copy a token from <a\nhref=\"https://huggingface.co/settings/tokens\" target=\"_blank\">your Hugging Face\ntokens page</a> and paste it below. <br> Immediately click login after copying\nyour token or it might be stored in plain text in this notebook file. </center>"
          }
        },
        "ddbdb2e386514627a8a0bdf5305da50b": {
          "model_module": "@jupyter-widgets/controls",
          "model_name": "PasswordModel",
          "model_module_version": "1.5.0",
          "state": {
            "_dom_classes": [],
            "_model_module": "@jupyter-widgets/controls",
            "_model_module_version": "1.5.0",
            "_model_name": "PasswordModel",
            "_view_count": null,
            "_view_module": "@jupyter-widgets/controls",
            "_view_module_version": "1.5.0",
            "_view_name": "PasswordView",
            "continuous_update": true,
            "description": "Token:",
            "description_tooltip": null,
            "disabled": false,
            "layout": "IPY_MODEL_e64642e5c94948228d2c3042816c0afa",
            "placeholder": "​",
            "style": "IPY_MODEL_f64fa501ed8747d2a973c867dbc6a58d",
            "value": ""
          }
        },
        "ec1783b00f34445690622923f3a2990e": {
          "model_module": "@jupyter-widgets/controls",
          "model_name": "CheckboxModel",
          "model_module_version": "1.5.0",
          "state": {
            "_dom_classes": [],
            "_model_module": "@jupyter-widgets/controls",
            "_model_module_version": "1.5.0",
            "_model_name": "CheckboxModel",
            "_view_count": null,
            "_view_module": "@jupyter-widgets/controls",
            "_view_module_version": "1.5.0",
            "_view_name": "CheckboxView",
            "description": "Add token as git credential?",
            "description_tooltip": null,
            "disabled": false,
            "indent": true,
            "layout": "IPY_MODEL_651032896c434889922d4db1d7adb557",
            "style": "IPY_MODEL_f2fac3926121468da7d9b77251701373",
            "value": true
          }
        },
        "2137b932222f446dbbcb920537e0b6c5": {
          "model_module": "@jupyter-widgets/controls",
          "model_name": "ButtonModel",
          "model_module_version": "1.5.0",
          "state": {
            "_dom_classes": [],
            "_model_module": "@jupyter-widgets/controls",
            "_model_module_version": "1.5.0",
            "_model_name": "ButtonModel",
            "_view_count": null,
            "_view_module": "@jupyter-widgets/controls",
            "_view_module_version": "1.5.0",
            "_view_name": "ButtonView",
            "button_style": "",
            "description": "Login",
            "disabled": false,
            "icon": "",
            "layout": "IPY_MODEL_25d2377e731e489d851941c8d01dc099",
            "style": "IPY_MODEL_0c45c06932d44d28a69d141d588bb564",
            "tooltip": ""
          }
        },
        "23f90379c88147d9bd1cc7bd8cc7cff9": {
          "model_module": "@jupyter-widgets/controls",
          "model_name": "HTMLModel",
          "model_module_version": "1.5.0",
          "state": {
            "_dom_classes": [],
            "_model_module": "@jupyter-widgets/controls",
            "_model_module_version": "1.5.0",
            "_model_name": "HTMLModel",
            "_view_count": null,
            "_view_module": "@jupyter-widgets/controls",
            "_view_module_version": "1.5.0",
            "_view_name": "HTMLView",
            "description": "",
            "description_tooltip": null,
            "layout": "IPY_MODEL_eb4134dd0dc74707b151110b8aa1cc9d",
            "placeholder": "​",
            "style": "IPY_MODEL_35dbd1c7ffc948869498f1a57f1d6f65",
            "value": "\n<b>Pro Tip:</b> If you don't already have one, you can create a dedicated\n'notebooks' token with 'write' access, that you can then easily reuse for all\nnotebooks. </center>"
          }
        },
        "3ed8381114c1490791701fddb40532b1": {
          "model_module": "@jupyter-widgets/base",
          "model_name": "LayoutModel",
          "model_module_version": "1.2.0",
          "state": {
            "_model_module": "@jupyter-widgets/base",
            "_model_module_version": "1.2.0",
            "_model_name": "LayoutModel",
            "_view_count": null,
            "_view_module": "@jupyter-widgets/base",
            "_view_module_version": "1.2.0",
            "_view_name": "LayoutView",
            "align_content": null,
            "align_items": "center",
            "align_self": null,
            "border": null,
            "bottom": null,
            "display": "flex",
            "flex": null,
            "flex_flow": "column",
            "grid_area": null,
            "grid_auto_columns": null,
            "grid_auto_flow": null,
            "grid_auto_rows": null,
            "grid_column": null,
            "grid_gap": null,
            "grid_row": null,
            "grid_template_areas": null,
            "grid_template_columns": null,
            "grid_template_rows": null,
            "height": null,
            "justify_content": null,
            "justify_items": null,
            "left": null,
            "margin": null,
            "max_height": null,
            "max_width": null,
            "min_height": null,
            "min_width": null,
            "object_fit": null,
            "object_position": null,
            "order": null,
            "overflow": null,
            "overflow_x": null,
            "overflow_y": null,
            "padding": null,
            "right": null,
            "top": null,
            "visibility": null,
            "width": "50%"
          }
        },
        "9a4af1eb4ba94cfdbc1f1845cd1b605a": {
          "model_module": "@jupyter-widgets/base",
          "model_name": "LayoutModel",
          "model_module_version": "1.2.0",
          "state": {
            "_model_module": "@jupyter-widgets/base",
            "_model_module_version": "1.2.0",
            "_model_name": "LayoutModel",
            "_view_count": null,
            "_view_module": "@jupyter-widgets/base",
            "_view_module_version": "1.2.0",
            "_view_name": "LayoutView",
            "align_content": null,
            "align_items": null,
            "align_self": null,
            "border": null,
            "bottom": null,
            "display": null,
            "flex": null,
            "flex_flow": null,
            "grid_area": null,
            "grid_auto_columns": null,
            "grid_auto_flow": null,
            "grid_auto_rows": null,
            "grid_column": null,
            "grid_gap": null,
            "grid_row": null,
            "grid_template_areas": null,
            "grid_template_columns": null,
            "grid_template_rows": null,
            "height": null,
            "justify_content": null,
            "justify_items": null,
            "left": null,
            "margin": null,
            "max_height": null,
            "max_width": null,
            "min_height": null,
            "min_width": null,
            "object_fit": null,
            "object_position": null,
            "order": null,
            "overflow": null,
            "overflow_x": null,
            "overflow_y": null,
            "padding": null,
            "right": null,
            "top": null,
            "visibility": null,
            "width": null
          }
        },
        "0bd439a5aca34f4182d74acb35c842b8": {
          "model_module": "@jupyter-widgets/controls",
          "model_name": "DescriptionStyleModel",
          "model_module_version": "1.5.0",
          "state": {
            "_model_module": "@jupyter-widgets/controls",
            "_model_module_version": "1.5.0",
            "_model_name": "DescriptionStyleModel",
            "_view_count": null,
            "_view_module": "@jupyter-widgets/base",
            "_view_module_version": "1.2.0",
            "_view_name": "StyleView",
            "description_width": ""
          }
        },
        "e64642e5c94948228d2c3042816c0afa": {
          "model_module": "@jupyter-widgets/base",
          "model_name": "LayoutModel",
          "model_module_version": "1.2.0",
          "state": {
            "_model_module": "@jupyter-widgets/base",
            "_model_module_version": "1.2.0",
            "_model_name": "LayoutModel",
            "_view_count": null,
            "_view_module": "@jupyter-widgets/base",
            "_view_module_version": "1.2.0",
            "_view_name": "LayoutView",
            "align_content": null,
            "align_items": null,
            "align_self": null,
            "border": null,
            "bottom": null,
            "display": null,
            "flex": null,
            "flex_flow": null,
            "grid_area": null,
            "grid_auto_columns": null,
            "grid_auto_flow": null,
            "grid_auto_rows": null,
            "grid_column": null,
            "grid_gap": null,
            "grid_row": null,
            "grid_template_areas": null,
            "grid_template_columns": null,
            "grid_template_rows": null,
            "height": null,
            "justify_content": null,
            "justify_items": null,
            "left": null,
            "margin": null,
            "max_height": null,
            "max_width": null,
            "min_height": null,
            "min_width": null,
            "object_fit": null,
            "object_position": null,
            "order": null,
            "overflow": null,
            "overflow_x": null,
            "overflow_y": null,
            "padding": null,
            "right": null,
            "top": null,
            "visibility": null,
            "width": null
          }
        },
        "f64fa501ed8747d2a973c867dbc6a58d": {
          "model_module": "@jupyter-widgets/controls",
          "model_name": "DescriptionStyleModel",
          "model_module_version": "1.5.0",
          "state": {
            "_model_module": "@jupyter-widgets/controls",
            "_model_module_version": "1.5.0",
            "_model_name": "DescriptionStyleModel",
            "_view_count": null,
            "_view_module": "@jupyter-widgets/base",
            "_view_module_version": "1.2.0",
            "_view_name": "StyleView",
            "description_width": ""
          }
        },
        "651032896c434889922d4db1d7adb557": {
          "model_module": "@jupyter-widgets/base",
          "model_name": "LayoutModel",
          "model_module_version": "1.2.0",
          "state": {
            "_model_module": "@jupyter-widgets/base",
            "_model_module_version": "1.2.0",
            "_model_name": "LayoutModel",
            "_view_count": null,
            "_view_module": "@jupyter-widgets/base",
            "_view_module_version": "1.2.0",
            "_view_name": "LayoutView",
            "align_content": null,
            "align_items": null,
            "align_self": null,
            "border": null,
            "bottom": null,
            "display": null,
            "flex": null,
            "flex_flow": null,
            "grid_area": null,
            "grid_auto_columns": null,
            "grid_auto_flow": null,
            "grid_auto_rows": null,
            "grid_column": null,
            "grid_gap": null,
            "grid_row": null,
            "grid_template_areas": null,
            "grid_template_columns": null,
            "grid_template_rows": null,
            "height": null,
            "justify_content": null,
            "justify_items": null,
            "left": null,
            "margin": null,
            "max_height": null,
            "max_width": null,
            "min_height": null,
            "min_width": null,
            "object_fit": null,
            "object_position": null,
            "order": null,
            "overflow": null,
            "overflow_x": null,
            "overflow_y": null,
            "padding": null,
            "right": null,
            "top": null,
            "visibility": null,
            "width": null
          }
        },
        "f2fac3926121468da7d9b77251701373": {
          "model_module": "@jupyter-widgets/controls",
          "model_name": "DescriptionStyleModel",
          "model_module_version": "1.5.0",
          "state": {
            "_model_module": "@jupyter-widgets/controls",
            "_model_module_version": "1.5.0",
            "_model_name": "DescriptionStyleModel",
            "_view_count": null,
            "_view_module": "@jupyter-widgets/base",
            "_view_module_version": "1.2.0",
            "_view_name": "StyleView",
            "description_width": ""
          }
        },
        "25d2377e731e489d851941c8d01dc099": {
          "model_module": "@jupyter-widgets/base",
          "model_name": "LayoutModel",
          "model_module_version": "1.2.0",
          "state": {
            "_model_module": "@jupyter-widgets/base",
            "_model_module_version": "1.2.0",
            "_model_name": "LayoutModel",
            "_view_count": null,
            "_view_module": "@jupyter-widgets/base",
            "_view_module_version": "1.2.0",
            "_view_name": "LayoutView",
            "align_content": null,
            "align_items": null,
            "align_self": null,
            "border": null,
            "bottom": null,
            "display": null,
            "flex": null,
            "flex_flow": null,
            "grid_area": null,
            "grid_auto_columns": null,
            "grid_auto_flow": null,
            "grid_auto_rows": null,
            "grid_column": null,
            "grid_gap": null,
            "grid_row": null,
            "grid_template_areas": null,
            "grid_template_columns": null,
            "grid_template_rows": null,
            "height": null,
            "justify_content": null,
            "justify_items": null,
            "left": null,
            "margin": null,
            "max_height": null,
            "max_width": null,
            "min_height": null,
            "min_width": null,
            "object_fit": null,
            "object_position": null,
            "order": null,
            "overflow": null,
            "overflow_x": null,
            "overflow_y": null,
            "padding": null,
            "right": null,
            "top": null,
            "visibility": null,
            "width": null
          }
        },
        "0c45c06932d44d28a69d141d588bb564": {
          "model_module": "@jupyter-widgets/controls",
          "model_name": "ButtonStyleModel",
          "model_module_version": "1.5.0",
          "state": {
            "_model_module": "@jupyter-widgets/controls",
            "_model_module_version": "1.5.0",
            "_model_name": "ButtonStyleModel",
            "_view_count": null,
            "_view_module": "@jupyter-widgets/base",
            "_view_module_version": "1.2.0",
            "_view_name": "StyleView",
            "button_color": null,
            "font_weight": ""
          }
        },
        "eb4134dd0dc74707b151110b8aa1cc9d": {
          "model_module": "@jupyter-widgets/base",
          "model_name": "LayoutModel",
          "model_module_version": "1.2.0",
          "state": {
            "_model_module": "@jupyter-widgets/base",
            "_model_module_version": "1.2.0",
            "_model_name": "LayoutModel",
            "_view_count": null,
            "_view_module": "@jupyter-widgets/base",
            "_view_module_version": "1.2.0",
            "_view_name": "LayoutView",
            "align_content": null,
            "align_items": null,
            "align_self": null,
            "border": null,
            "bottom": null,
            "display": null,
            "flex": null,
            "flex_flow": null,
            "grid_area": null,
            "grid_auto_columns": null,
            "grid_auto_flow": null,
            "grid_auto_rows": null,
            "grid_column": null,
            "grid_gap": null,
            "grid_row": null,
            "grid_template_areas": null,
            "grid_template_columns": null,
            "grid_template_rows": null,
            "height": null,
            "justify_content": null,
            "justify_items": null,
            "left": null,
            "margin": null,
            "max_height": null,
            "max_width": null,
            "min_height": null,
            "min_width": null,
            "object_fit": null,
            "object_position": null,
            "order": null,
            "overflow": null,
            "overflow_x": null,
            "overflow_y": null,
            "padding": null,
            "right": null,
            "top": null,
            "visibility": null,
            "width": null
          }
        },
        "35dbd1c7ffc948869498f1a57f1d6f65": {
          "model_module": "@jupyter-widgets/controls",
          "model_name": "DescriptionStyleModel",
          "model_module_version": "1.5.0",
          "state": {
            "_model_module": "@jupyter-widgets/controls",
            "_model_module_version": "1.5.0",
            "_model_name": "DescriptionStyleModel",
            "_view_count": null,
            "_view_module": "@jupyter-widgets/base",
            "_view_module_version": "1.2.0",
            "_view_name": "StyleView",
            "description_width": ""
          }
        },
        "2b05518b15cf4b93b9c29e59b1706e05": {
          "model_module": "@jupyter-widgets/controls",
          "model_name": "LabelModel",
          "model_module_version": "1.5.0",
          "state": {
            "_dom_classes": [],
            "_model_module": "@jupyter-widgets/controls",
            "_model_module_version": "1.5.0",
            "_model_name": "LabelModel",
            "_view_count": null,
            "_view_module": "@jupyter-widgets/controls",
            "_view_module_version": "1.5.0",
            "_view_name": "LabelView",
            "description": "",
            "description_tooltip": null,
            "layout": "IPY_MODEL_b18d11b2ac5b4b5ba096085c2c065108",
            "placeholder": "​",
            "style": "IPY_MODEL_affeea0670154ad0aa926b6ea13292f6",
            "value": "Connecting..."
          }
        },
        "b18d11b2ac5b4b5ba096085c2c065108": {
          "model_module": "@jupyter-widgets/base",
          "model_name": "LayoutModel",
          "model_module_version": "1.2.0",
          "state": {
            "_model_module": "@jupyter-widgets/base",
            "_model_module_version": "1.2.0",
            "_model_name": "LayoutModel",
            "_view_count": null,
            "_view_module": "@jupyter-widgets/base",
            "_view_module_version": "1.2.0",
            "_view_name": "LayoutView",
            "align_content": null,
            "align_items": null,
            "align_self": null,
            "border": null,
            "bottom": null,
            "display": null,
            "flex": null,
            "flex_flow": null,
            "grid_area": null,
            "grid_auto_columns": null,
            "grid_auto_flow": null,
            "grid_auto_rows": null,
            "grid_column": null,
            "grid_gap": null,
            "grid_row": null,
            "grid_template_areas": null,
            "grid_template_columns": null,
            "grid_template_rows": null,
            "height": null,
            "justify_content": null,
            "justify_items": null,
            "left": null,
            "margin": null,
            "max_height": null,
            "max_width": null,
            "min_height": null,
            "min_width": null,
            "object_fit": null,
            "object_position": null,
            "order": null,
            "overflow": null,
            "overflow_x": null,
            "overflow_y": null,
            "padding": null,
            "right": null,
            "top": null,
            "visibility": null,
            "width": null
          }
        },
        "affeea0670154ad0aa926b6ea13292f6": {
          "model_module": "@jupyter-widgets/controls",
          "model_name": "DescriptionStyleModel",
          "model_module_version": "1.5.0",
          "state": {
            "_model_module": "@jupyter-widgets/controls",
            "_model_module_version": "1.5.0",
            "_model_name": "DescriptionStyleModel",
            "_view_count": null,
            "_view_module": "@jupyter-widgets/base",
            "_view_module_version": "1.2.0",
            "_view_name": "StyleView",
            "description_width": ""
          }
        },
        "d06cd32e764447e291c886bcf7bc5ec0": {
          "model_module": "@jupyter-widgets/controls",
          "model_name": "LabelModel",
          "model_module_version": "1.5.0",
          "state": {
            "_dom_classes": [],
            "_model_module": "@jupyter-widgets/controls",
            "_model_module_version": "1.5.0",
            "_model_name": "LabelModel",
            "_view_count": null,
            "_view_module": "@jupyter-widgets/controls",
            "_view_module_version": "1.5.0",
            "_view_name": "LabelView",
            "description": "",
            "description_tooltip": null,
            "layout": "IPY_MODEL_536aa28b77bc4dd49155da6ac6e8832f",
            "placeholder": "​",
            "style": "IPY_MODEL_364eab213c9748058f011c892577685a",
            "value": "Token is valid (permission: fineGrained)."
          }
        },
        "86a8d387494741f58f11bb2834e058c2": {
          "model_module": "@jupyter-widgets/controls",
          "model_name": "LabelModel",
          "model_module_version": "1.5.0",
          "state": {
            "_dom_classes": [],
            "_model_module": "@jupyter-widgets/controls",
            "_model_module_version": "1.5.0",
            "_model_name": "LabelModel",
            "_view_count": null,
            "_view_module": "@jupyter-widgets/controls",
            "_view_module_version": "1.5.0",
            "_view_name": "LabelView",
            "description": "",
            "description_tooltip": null,
            "layout": "IPY_MODEL_60e8892b472740539dda875c71b676bd",
            "placeholder": "​",
            "style": "IPY_MODEL_db0487dcab0c4df1962299870df7d2a6",
            "value": "Your token has been saved in your configured git credential helpers (store)."
          }
        },
        "ab9fbc5e9eaf4cef916e36d9978b3f8e": {
          "model_module": "@jupyter-widgets/controls",
          "model_name": "LabelModel",
          "model_module_version": "1.5.0",
          "state": {
            "_dom_classes": [],
            "_model_module": "@jupyter-widgets/controls",
            "_model_module_version": "1.5.0",
            "_model_name": "LabelModel",
            "_view_count": null,
            "_view_module": "@jupyter-widgets/controls",
            "_view_module_version": "1.5.0",
            "_view_name": "LabelView",
            "description": "",
            "description_tooltip": null,
            "layout": "IPY_MODEL_89a0b2b0ec7a4c5bb8aea591e9cce66f",
            "placeholder": "​",
            "style": "IPY_MODEL_ce2aa4ae40ce47daa99481037ba931ea",
            "value": "Your token has been saved to /root/.cache/huggingface/token"
          }
        },
        "042c5c74755c48ad8be33c94775db9ed": {
          "model_module": "@jupyter-widgets/controls",
          "model_name": "LabelModel",
          "model_module_version": "1.5.0",
          "state": {
            "_dom_classes": [],
            "_model_module": "@jupyter-widgets/controls",
            "_model_module_version": "1.5.0",
            "_model_name": "LabelModel",
            "_view_count": null,
            "_view_module": "@jupyter-widgets/controls",
            "_view_module_version": "1.5.0",
            "_view_name": "LabelView",
            "description": "",
            "description_tooltip": null,
            "layout": "IPY_MODEL_3544295c7d4c474a8c74aafc6c5935f1",
            "placeholder": "​",
            "style": "IPY_MODEL_20aa851ebf9144f2a9ee0927243be6e1",
            "value": "Login successful"
          }
        },
        "536aa28b77bc4dd49155da6ac6e8832f": {
          "model_module": "@jupyter-widgets/base",
          "model_name": "LayoutModel",
          "model_module_version": "1.2.0",
          "state": {
            "_model_module": "@jupyter-widgets/base",
            "_model_module_version": "1.2.0",
            "_model_name": "LayoutModel",
            "_view_count": null,
            "_view_module": "@jupyter-widgets/base",
            "_view_module_version": "1.2.0",
            "_view_name": "LayoutView",
            "align_content": null,
            "align_items": null,
            "align_self": null,
            "border": null,
            "bottom": null,
            "display": null,
            "flex": null,
            "flex_flow": null,
            "grid_area": null,
            "grid_auto_columns": null,
            "grid_auto_flow": null,
            "grid_auto_rows": null,
            "grid_column": null,
            "grid_gap": null,
            "grid_row": null,
            "grid_template_areas": null,
            "grid_template_columns": null,
            "grid_template_rows": null,
            "height": null,
            "justify_content": null,
            "justify_items": null,
            "left": null,
            "margin": null,
            "max_height": null,
            "max_width": null,
            "min_height": null,
            "min_width": null,
            "object_fit": null,
            "object_position": null,
            "order": null,
            "overflow": null,
            "overflow_x": null,
            "overflow_y": null,
            "padding": null,
            "right": null,
            "top": null,
            "visibility": null,
            "width": null
          }
        },
        "364eab213c9748058f011c892577685a": {
          "model_module": "@jupyter-widgets/controls",
          "model_name": "DescriptionStyleModel",
          "model_module_version": "1.5.0",
          "state": {
            "_model_module": "@jupyter-widgets/controls",
            "_model_module_version": "1.5.0",
            "_model_name": "DescriptionStyleModel",
            "_view_count": null,
            "_view_module": "@jupyter-widgets/base",
            "_view_module_version": "1.2.0",
            "_view_name": "StyleView",
            "description_width": ""
          }
        },
        "60e8892b472740539dda875c71b676bd": {
          "model_module": "@jupyter-widgets/base",
          "model_name": "LayoutModel",
          "model_module_version": "1.2.0",
          "state": {
            "_model_module": "@jupyter-widgets/base",
            "_model_module_version": "1.2.0",
            "_model_name": "LayoutModel",
            "_view_count": null,
            "_view_module": "@jupyter-widgets/base",
            "_view_module_version": "1.2.0",
            "_view_name": "LayoutView",
            "align_content": null,
            "align_items": null,
            "align_self": null,
            "border": null,
            "bottom": null,
            "display": null,
            "flex": null,
            "flex_flow": null,
            "grid_area": null,
            "grid_auto_columns": null,
            "grid_auto_flow": null,
            "grid_auto_rows": null,
            "grid_column": null,
            "grid_gap": null,
            "grid_row": null,
            "grid_template_areas": null,
            "grid_template_columns": null,
            "grid_template_rows": null,
            "height": null,
            "justify_content": null,
            "justify_items": null,
            "left": null,
            "margin": null,
            "max_height": null,
            "max_width": null,
            "min_height": null,
            "min_width": null,
            "object_fit": null,
            "object_position": null,
            "order": null,
            "overflow": null,
            "overflow_x": null,
            "overflow_y": null,
            "padding": null,
            "right": null,
            "top": null,
            "visibility": null,
            "width": null
          }
        },
        "db0487dcab0c4df1962299870df7d2a6": {
          "model_module": "@jupyter-widgets/controls",
          "model_name": "DescriptionStyleModel",
          "model_module_version": "1.5.0",
          "state": {
            "_model_module": "@jupyter-widgets/controls",
            "_model_module_version": "1.5.0",
            "_model_name": "DescriptionStyleModel",
            "_view_count": null,
            "_view_module": "@jupyter-widgets/base",
            "_view_module_version": "1.2.0",
            "_view_name": "StyleView",
            "description_width": ""
          }
        },
        "89a0b2b0ec7a4c5bb8aea591e9cce66f": {
          "model_module": "@jupyter-widgets/base",
          "model_name": "LayoutModel",
          "model_module_version": "1.2.0",
          "state": {
            "_model_module": "@jupyter-widgets/base",
            "_model_module_version": "1.2.0",
            "_model_name": "LayoutModel",
            "_view_count": null,
            "_view_module": "@jupyter-widgets/base",
            "_view_module_version": "1.2.0",
            "_view_name": "LayoutView",
            "align_content": null,
            "align_items": null,
            "align_self": null,
            "border": null,
            "bottom": null,
            "display": null,
            "flex": null,
            "flex_flow": null,
            "grid_area": null,
            "grid_auto_columns": null,
            "grid_auto_flow": null,
            "grid_auto_rows": null,
            "grid_column": null,
            "grid_gap": null,
            "grid_row": null,
            "grid_template_areas": null,
            "grid_template_columns": null,
            "grid_template_rows": null,
            "height": null,
            "justify_content": null,
            "justify_items": null,
            "left": null,
            "margin": null,
            "max_height": null,
            "max_width": null,
            "min_height": null,
            "min_width": null,
            "object_fit": null,
            "object_position": null,
            "order": null,
            "overflow": null,
            "overflow_x": null,
            "overflow_y": null,
            "padding": null,
            "right": null,
            "top": null,
            "visibility": null,
            "width": null
          }
        },
        "ce2aa4ae40ce47daa99481037ba931ea": {
          "model_module": "@jupyter-widgets/controls",
          "model_name": "DescriptionStyleModel",
          "model_module_version": "1.5.0",
          "state": {
            "_model_module": "@jupyter-widgets/controls",
            "_model_module_version": "1.5.0",
            "_model_name": "DescriptionStyleModel",
            "_view_count": null,
            "_view_module": "@jupyter-widgets/base",
            "_view_module_version": "1.2.0",
            "_view_name": "StyleView",
            "description_width": ""
          }
        },
        "3544295c7d4c474a8c74aafc6c5935f1": {
          "model_module": "@jupyter-widgets/base",
          "model_name": "LayoutModel",
          "model_module_version": "1.2.0",
          "state": {
            "_model_module": "@jupyter-widgets/base",
            "_model_module_version": "1.2.0",
            "_model_name": "LayoutModel",
            "_view_count": null,
            "_view_module": "@jupyter-widgets/base",
            "_view_module_version": "1.2.0",
            "_view_name": "LayoutView",
            "align_content": null,
            "align_items": null,
            "align_self": null,
            "border": null,
            "bottom": null,
            "display": null,
            "flex": null,
            "flex_flow": null,
            "grid_area": null,
            "grid_auto_columns": null,
            "grid_auto_flow": null,
            "grid_auto_rows": null,
            "grid_column": null,
            "grid_gap": null,
            "grid_row": null,
            "grid_template_areas": null,
            "grid_template_columns": null,
            "grid_template_rows": null,
            "height": null,
            "justify_content": null,
            "justify_items": null,
            "left": null,
            "margin": null,
            "max_height": null,
            "max_width": null,
            "min_height": null,
            "min_width": null,
            "object_fit": null,
            "object_position": null,
            "order": null,
            "overflow": null,
            "overflow_x": null,
            "overflow_y": null,
            "padding": null,
            "right": null,
            "top": null,
            "visibility": null,
            "width": null
          }
        },
        "20aa851ebf9144f2a9ee0927243be6e1": {
          "model_module": "@jupyter-widgets/controls",
          "model_name": "DescriptionStyleModel",
          "model_module_version": "1.5.0",
          "state": {
            "_model_module": "@jupyter-widgets/controls",
            "_model_module_version": "1.5.0",
            "_model_name": "DescriptionStyleModel",
            "_view_count": null,
            "_view_module": "@jupyter-widgets/base",
            "_view_module_version": "1.2.0",
            "_view_name": "StyleView",
            "description_width": ""
          }
        }
      }
    }
  },
  "cells": [
    {
      "cell_type": "code",
      "source": [
        "from google.colab import drive\n",
        "drive.mount('/content/drive')"
      ],
      "metadata": {
        "colab": {
          "base_uri": "https://localhost:8080/"
        },
        "id": "KihCvjP0cZ8O",
        "outputId": "0f4d0516-0a0b-42f9-fed1-e73c26db16c1"
      },
      "execution_count": 9,
      "outputs": [
        {
          "output_type": "stream",
          "name": "stdout",
          "text": [
            "Drive already mounted at /content/drive; to attempt to forcibly remount, call drive.mount(\"/content/drive\", force_remount=True).\n"
          ]
        }
      ]
    },
    {
      "cell_type": "code",
      "source": [
        "# pip install pandas transformers nltk matplotlib seaborn plotly rouge-score\n"
      ],
      "metadata": {
        "id": "CPiqFC8xcaik"
      },
      "execution_count": null,
      "outputs": []
    },
    {
      "cell_type": "code",
      "source": [
        "import pandas as pd\n",
        "\n",
        "dataset_path = '/content/drive/MyDrive/5c Networks /impression_300_llm.csv'\n",
        "df = pd.read_csv(dataset_path)"
      ],
      "metadata": {
        "id": "pZfDsBoscmTh"
      },
      "execution_count": null,
      "outputs": []
    },
    {
      "cell_type": "code",
      "source": [
        "df.head()"
      ],
      "metadata": {
        "colab": {
          "base_uri": "https://localhost:8080/",
          "height": 397
        },
        "id": "rkNe4dFMc2SW",
        "outputId": "58e85354-2dfa-432d-e72b-9e1303dd4fac"
      },
      "execution_count": null,
      "outputs": [
        {
          "output_type": "execute_result",
          "data": {
            "text/plain": [
              "                                       Report Name  \\\n",
              "0                                  MRI Brain Plain   \n",
              "1                    MRI Orbits Plain and Contrast   \n",
              "2                     MRI Brain Plain and Contrast   \n",
              "3                     MRI Brain Plain and Contrast   \n",
              "4  CT Abdomen & Pelvis Plain and Contrast - Female   \n",
              "\n",
              "                          History  \\\n",
              "0                             LOC   \n",
              "1               document attached   \n",
              "2               document attached   \n",
              "3                        HEADACHE   \n",
              "4  PAIN IN RT SIDED UPPER ABDOMEN   \n",
              "\n",
              "                                         Observation  \\\n",
              "0  Possible minimal volume loss of right hippocam...   \n",
              "1  The globe is normal shape. The uveoscleral thi...   \n",
              "2  No evidence of acute infarct, hemorrhage or sp...   \n",
              "3  Limited study due to phase encoded pulsation a...   \n",
              "4  The liver is normal sized. Focal fatty infiltr...   \n",
              "\n",
              "                                          Impression  \n",
              "0  Possible minimal volume loss of right hippocam...  \n",
              "1  Minimally increased perineural CSF signal alon...  \n",
              "2  No significant  neuroparenchymal abnormality d...  \n",
              "3  Small vessel ischaemic disease (Fazekas grade ...  \n",
              "4  Prominently distended gallbladder. No calcifie...  "
            ],
            "text/html": [
              "\n",
              "  <div id=\"df-50a5dc04-b62d-466c-94e9-bae002bf7716\" class=\"colab-df-container\">\n",
              "    <div>\n",
              "<style scoped>\n",
              "    .dataframe tbody tr th:only-of-type {\n",
              "        vertical-align: middle;\n",
              "    }\n",
              "\n",
              "    .dataframe tbody tr th {\n",
              "        vertical-align: top;\n",
              "    }\n",
              "\n",
              "    .dataframe thead th {\n",
              "        text-align: right;\n",
              "    }\n",
              "</style>\n",
              "<table border=\"1\" class=\"dataframe\">\n",
              "  <thead>\n",
              "    <tr style=\"text-align: right;\">\n",
              "      <th></th>\n",
              "      <th>Report Name</th>\n",
              "      <th>History</th>\n",
              "      <th>Observation</th>\n",
              "      <th>Impression</th>\n",
              "    </tr>\n",
              "  </thead>\n",
              "  <tbody>\n",
              "    <tr>\n",
              "      <th>0</th>\n",
              "      <td>MRI Brain Plain</td>\n",
              "      <td>LOC</td>\n",
              "      <td>Possible minimal volume loss of right hippocam...</td>\n",
              "      <td>Possible minimal volume loss of right hippocam...</td>\n",
              "    </tr>\n",
              "    <tr>\n",
              "      <th>1</th>\n",
              "      <td>MRI Orbits Plain and Contrast</td>\n",
              "      <td>document attached</td>\n",
              "      <td>The globe is normal shape. The uveoscleral thi...</td>\n",
              "      <td>Minimally increased perineural CSF signal alon...</td>\n",
              "    </tr>\n",
              "    <tr>\n",
              "      <th>2</th>\n",
              "      <td>MRI Brain Plain and Contrast</td>\n",
              "      <td>document attached</td>\n",
              "      <td>No evidence of acute infarct, hemorrhage or sp...</td>\n",
              "      <td>No significant  neuroparenchymal abnormality d...</td>\n",
              "    </tr>\n",
              "    <tr>\n",
              "      <th>3</th>\n",
              "      <td>MRI Brain Plain and Contrast</td>\n",
              "      <td>HEADACHE</td>\n",
              "      <td>Limited study due to phase encoded pulsation a...</td>\n",
              "      <td>Small vessel ischaemic disease (Fazekas grade ...</td>\n",
              "    </tr>\n",
              "    <tr>\n",
              "      <th>4</th>\n",
              "      <td>CT Abdomen &amp; Pelvis Plain and Contrast - Female</td>\n",
              "      <td>PAIN IN RT SIDED UPPER ABDOMEN</td>\n",
              "      <td>The liver is normal sized. Focal fatty infiltr...</td>\n",
              "      <td>Prominently distended gallbladder. No calcifie...</td>\n",
              "    </tr>\n",
              "  </tbody>\n",
              "</table>\n",
              "</div>\n",
              "    <div class=\"colab-df-buttons\">\n",
              "\n",
              "  <div class=\"colab-df-container\">\n",
              "    <button class=\"colab-df-convert\" onclick=\"convertToInteractive('df-50a5dc04-b62d-466c-94e9-bae002bf7716')\"\n",
              "            title=\"Convert this dataframe to an interactive table.\"\n",
              "            style=\"display:none;\">\n",
              "\n",
              "  <svg xmlns=\"http://www.w3.org/2000/svg\" height=\"24px\" viewBox=\"0 -960 960 960\">\n",
              "    <path d=\"M120-120v-720h720v720H120Zm60-500h600v-160H180v160Zm220 220h160v-160H400v160Zm0 220h160v-160H400v160ZM180-400h160v-160H180v160Zm440 0h160v-160H620v160ZM180-180h160v-160H180v160Zm440 0h160v-160H620v160Z\"/>\n",
              "  </svg>\n",
              "    </button>\n",
              "\n",
              "  <style>\n",
              "    .colab-df-container {\n",
              "      display:flex;\n",
              "      gap: 12px;\n",
              "    }\n",
              "\n",
              "    .colab-df-convert {\n",
              "      background-color: #E8F0FE;\n",
              "      border: none;\n",
              "      border-radius: 50%;\n",
              "      cursor: pointer;\n",
              "      display: none;\n",
              "      fill: #1967D2;\n",
              "      height: 32px;\n",
              "      padding: 0 0 0 0;\n",
              "      width: 32px;\n",
              "    }\n",
              "\n",
              "    .colab-df-convert:hover {\n",
              "      background-color: #E2EBFA;\n",
              "      box-shadow: 0px 1px 2px rgba(60, 64, 67, 0.3), 0px 1px 3px 1px rgba(60, 64, 67, 0.15);\n",
              "      fill: #174EA6;\n",
              "    }\n",
              "\n",
              "    .colab-df-buttons div {\n",
              "      margin-bottom: 4px;\n",
              "    }\n",
              "\n",
              "    [theme=dark] .colab-df-convert {\n",
              "      background-color: #3B4455;\n",
              "      fill: #D2E3FC;\n",
              "    }\n",
              "\n",
              "    [theme=dark] .colab-df-convert:hover {\n",
              "      background-color: #434B5C;\n",
              "      box-shadow: 0px 1px 3px 1px rgba(0, 0, 0, 0.15);\n",
              "      filter: drop-shadow(0px 1px 2px rgba(0, 0, 0, 0.3));\n",
              "      fill: #FFFFFF;\n",
              "    }\n",
              "  </style>\n",
              "\n",
              "    <script>\n",
              "      const buttonEl =\n",
              "        document.querySelector('#df-50a5dc04-b62d-466c-94e9-bae002bf7716 button.colab-df-convert');\n",
              "      buttonEl.style.display =\n",
              "        google.colab.kernel.accessAllowed ? 'block' : 'none';\n",
              "\n",
              "      async function convertToInteractive(key) {\n",
              "        const element = document.querySelector('#df-50a5dc04-b62d-466c-94e9-bae002bf7716');\n",
              "        const dataTable =\n",
              "          await google.colab.kernel.invokeFunction('convertToInteractive',\n",
              "                                                    [key], {});\n",
              "        if (!dataTable) return;\n",
              "\n",
              "        const docLinkHtml = 'Like what you see? Visit the ' +\n",
              "          '<a target=\"_blank\" href=https://colab.research.google.com/notebooks/data_table.ipynb>data table notebook</a>'\n",
              "          + ' to learn more about interactive tables.';\n",
              "        element.innerHTML = '';\n",
              "        dataTable['output_type'] = 'display_data';\n",
              "        await google.colab.output.renderOutput(dataTable, element);\n",
              "        const docLink = document.createElement('div');\n",
              "        docLink.innerHTML = docLinkHtml;\n",
              "        element.appendChild(docLink);\n",
              "      }\n",
              "    </script>\n",
              "  </div>\n",
              "\n",
              "\n",
              "<div id=\"df-ee6c8efe-ed12-4732-a0fe-bb12bd099ef1\">\n",
              "  <button class=\"colab-df-quickchart\" onclick=\"quickchart('df-ee6c8efe-ed12-4732-a0fe-bb12bd099ef1')\"\n",
              "            title=\"Suggest charts\"\n",
              "            style=\"display:none;\">\n",
              "\n",
              "<svg xmlns=\"http://www.w3.org/2000/svg\" height=\"24px\"viewBox=\"0 0 24 24\"\n",
              "     width=\"24px\">\n",
              "    <g>\n",
              "        <path d=\"M19 3H5c-1.1 0-2 .9-2 2v14c0 1.1.9 2 2 2h14c1.1 0 2-.9 2-2V5c0-1.1-.9-2-2-2zM9 17H7v-7h2v7zm4 0h-2V7h2v10zm4 0h-2v-4h2v4z\"/>\n",
              "    </g>\n",
              "</svg>\n",
              "  </button>\n",
              "\n",
              "<style>\n",
              "  .colab-df-quickchart {\n",
              "      --bg-color: #E8F0FE;\n",
              "      --fill-color: #1967D2;\n",
              "      --hover-bg-color: #E2EBFA;\n",
              "      --hover-fill-color: #174EA6;\n",
              "      --disabled-fill-color: #AAA;\n",
              "      --disabled-bg-color: #DDD;\n",
              "  }\n",
              "\n",
              "  [theme=dark] .colab-df-quickchart {\n",
              "      --bg-color: #3B4455;\n",
              "      --fill-color: #D2E3FC;\n",
              "      --hover-bg-color: #434B5C;\n",
              "      --hover-fill-color: #FFFFFF;\n",
              "      --disabled-bg-color: #3B4455;\n",
              "      --disabled-fill-color: #666;\n",
              "  }\n",
              "\n",
              "  .colab-df-quickchart {\n",
              "    background-color: var(--bg-color);\n",
              "    border: none;\n",
              "    border-radius: 50%;\n",
              "    cursor: pointer;\n",
              "    display: none;\n",
              "    fill: var(--fill-color);\n",
              "    height: 32px;\n",
              "    padding: 0;\n",
              "    width: 32px;\n",
              "  }\n",
              "\n",
              "  .colab-df-quickchart:hover {\n",
              "    background-color: var(--hover-bg-color);\n",
              "    box-shadow: 0 1px 2px rgba(60, 64, 67, 0.3), 0 1px 3px 1px rgba(60, 64, 67, 0.15);\n",
              "    fill: var(--button-hover-fill-color);\n",
              "  }\n",
              "\n",
              "  .colab-df-quickchart-complete:disabled,\n",
              "  .colab-df-quickchart-complete:disabled:hover {\n",
              "    background-color: var(--disabled-bg-color);\n",
              "    fill: var(--disabled-fill-color);\n",
              "    box-shadow: none;\n",
              "  }\n",
              "\n",
              "  .colab-df-spinner {\n",
              "    border: 2px solid var(--fill-color);\n",
              "    border-color: transparent;\n",
              "    border-bottom-color: var(--fill-color);\n",
              "    animation:\n",
              "      spin 1s steps(1) infinite;\n",
              "  }\n",
              "\n",
              "  @keyframes spin {\n",
              "    0% {\n",
              "      border-color: transparent;\n",
              "      border-bottom-color: var(--fill-color);\n",
              "      border-left-color: var(--fill-color);\n",
              "    }\n",
              "    20% {\n",
              "      border-color: transparent;\n",
              "      border-left-color: var(--fill-color);\n",
              "      border-top-color: var(--fill-color);\n",
              "    }\n",
              "    30% {\n",
              "      border-color: transparent;\n",
              "      border-left-color: var(--fill-color);\n",
              "      border-top-color: var(--fill-color);\n",
              "      border-right-color: var(--fill-color);\n",
              "    }\n",
              "    40% {\n",
              "      border-color: transparent;\n",
              "      border-right-color: var(--fill-color);\n",
              "      border-top-color: var(--fill-color);\n",
              "    }\n",
              "    60% {\n",
              "      border-color: transparent;\n",
              "      border-right-color: var(--fill-color);\n",
              "    }\n",
              "    80% {\n",
              "      border-color: transparent;\n",
              "      border-right-color: var(--fill-color);\n",
              "      border-bottom-color: var(--fill-color);\n",
              "    }\n",
              "    90% {\n",
              "      border-color: transparent;\n",
              "      border-bottom-color: var(--fill-color);\n",
              "    }\n",
              "  }\n",
              "</style>\n",
              "\n",
              "  <script>\n",
              "    async function quickchart(key) {\n",
              "      const quickchartButtonEl =\n",
              "        document.querySelector('#' + key + ' button');\n",
              "      quickchartButtonEl.disabled = true;  // To prevent multiple clicks.\n",
              "      quickchartButtonEl.classList.add('colab-df-spinner');\n",
              "      try {\n",
              "        const charts = await google.colab.kernel.invokeFunction(\n",
              "            'suggestCharts', [key], {});\n",
              "      } catch (error) {\n",
              "        console.error('Error during call to suggestCharts:', error);\n",
              "      }\n",
              "      quickchartButtonEl.classList.remove('colab-df-spinner');\n",
              "      quickchartButtonEl.classList.add('colab-df-quickchart-complete');\n",
              "    }\n",
              "    (() => {\n",
              "      let quickchartButtonEl =\n",
              "        document.querySelector('#df-ee6c8efe-ed12-4732-a0fe-bb12bd099ef1 button');\n",
              "      quickchartButtonEl.style.display =\n",
              "        google.colab.kernel.accessAllowed ? 'block' : 'none';\n",
              "    })();\n",
              "  </script>\n",
              "</div>\n",
              "\n",
              "    </div>\n",
              "  </div>\n"
            ],
            "application/vnd.google.colaboratory.intrinsic+json": {
              "type": "dataframe",
              "variable_name": "df",
              "summary": "{\n  \"name\": \"df\",\n  \"rows\": 330,\n  \"fields\": [\n    {\n      \"column\": \"Report Name\",\n      \"properties\": {\n        \"dtype\": \"category\",\n        \"num_unique_values\": 57,\n        \"samples\": [\n          \"MRI Brain Plain\",\n          \"CT Angiography Peripheral Legs\",\n          \"MRI Pelvis Plain and Contrast - Female\"\n        ],\n        \"semantic_type\": \"\",\n        \"description\": \"\"\n      }\n    },\n    {\n      \"column\": \"History\",\n      \"properties\": {\n        \"dtype\": \"category\",\n        \"num_unique_values\": 125,\n        \"samples\": [\n          \"H/O SELF FALL 10DAYS BACK C/O LEFT HYPOCHONDRIC.\",\n          \"DELAYED DROWTH\",\n          \"BACK INJURY\"\n        ],\n        \"semantic_type\": \"\",\n        \"description\": \"\"\n      }\n    },\n    {\n      \"column\": \"Observation\",\n      \"properties\": {\n        \"dtype\": \"string\",\n        \"num_unique_values\": 268,\n        \"samples\": [\n          \"Confluent areas of fibrosis in bilateral lung apices. Multiple tiny calcified and non-calcified granulomas in bilateral lungs. Bronchial wall thickening and bronchiectatic changes in bilateral lungs. Linear fibroatelectatic bands in right middle lobe of, lingula and left lower lobe. Partially calcified and non-calcified prevascular, right lower paratracheal, subcarinal, bilateral hilar lymph nodes are seen. No significant pleural fluid collection seen. Mediastinal position and contents including the trachea and its bifurcation appear normal. The cardiac size and configuration are within normal limits.  Minimal pericardial thickening /effusion is seen. Calcifications are seen along coronaries. Partially calcified and non-calcified bilateral  level I, level II axillary lymph nodes are seen. Few calcified or supraclavicular, bilateral level IV cervical lymph nodes. Adducted vocal folds are seen. Diffuse osteopenia is seen. Compression fracture of T12 is seen  with kyphotic angulation. Reduced C6 vertebral height. There is a hypodense ovoid lesion with peripheral iso to hyperdense rim on calcifications in large and anterior chest wall on left.  The lesion measures 18 x 13 mm. There is tract extending from the lesion to cutaneous plane. Contracted gallbladder with multiple radiodense gallbladder calculi. Suspicious  calculi/calcifications along the course of distal CBD.  Left renal cortical cysts. Few calcified lymph nodes in visualised upper abdomen.\",\n          \"Mild hepatomegaly is seen, measures  17 cm in length. No focal lesion seen. Moderate intrahepatic bile duct dilatation in both lobes. Dilated CHD is seen. There is  smooth  cut off of CHD, approximately  15 mm away from confluence. Minimal sludge in CHD. Mildly prominent CBD with smooth distal tapering.  Gallbladder is surgically absent. \\nMultiple prominent porta hepatis, portacaval, para-aortic, aortocaval, paracaval lymph nodes are seen , largest measures 18 x 16 mm. Prominent lymph node  in right cardiophrenic angle in posterior aspect.\\n Pancreatic duct is normal. Pancreas is normal. No surrounding collection.\\n Splenomegaly is seen, measures 12 cm in length. No focal lesion.\\n Suprarenal glands are normal.\\n Kidneys are normal in shape, size and location. No focal lesion.   mild bilateral perinephric fat stranding with thin rim of fluid signal. Thin rim of perihepatic and perisplenic fluid signal is seen. No significant abnormality in visualised osseous structures\\n Right hepatic duct -11 mm Left hepatic duct -10 mm   Common hepatic duct - 14 mm CBD - 6 mm Pancreatic duct appears normal.\\n\",\n          \"T2 hyperintense lesions are also seen in T2, T3 , T5, T7, L1, L2, L5 vertebral bodies , which may represent hemangiomas. Mild degenerative changes in dorsal spine in the form of small anterior marginal osteophytes. Moderate degenerative changes in lumbar spine in the form of anterior and posterior marginal osteophytes. Levoscoliosis of lumbar spine is seen. Reversal of lumbar lordosis is seen. Small T2 hypointense focus indenting upon dorsal cord in dorsal aspect at the level of T10-D11, which may represent hypertrophied ligamentum flavum T2 hyperintense focus in dorsal cord at the level of D10-D11- ? early compressive myelopathy/artefactual. T1  /T2 hypointense  linear signal intensity  parallel to superior endplate of L3 vertebral body  with mildly reduced vertebral height. No significant marrow oedema seen. Retrolisthesis of L4 over L5. Schmorl's nodes along multiple lumbar vertebral levels. At T12-L1:   disc height is maintained with loss of hydration. There is diffuse disc bulge  without significant spinal canal or neural foraminal stenosis. Mild ligamentum flavum and facet joint hypertrophy is seen. At L1-L2: The disc height is maintained with loss of hydration. There is diffuse disc bulge with posterior disc osteophyte protrusion causing mild thecal sac stenosis. No significant neural foraminal stenosis is seen. mild ligamentum flavum and facet joint hypertrophy is seen. At L2-L3: the disc height is maintained with loss of hydration. There is small posterior disc osteophyte complex indenting upon thecal sac causing mild thecal sac and neural foraminal stenosis. Mild ligamentum flavum and facet joint hypertrophy is seen. Posterior high intensity zone is seen. At L3-L4: The disc height is maintained with loss of hydration. There is diffuse disc bulge causing mild thecal sac and mild to moderate  right neural foraminal stenosis. Mild ligamentum flavum and facet joint hypertrophy is seen. Posterior high intensity zone is seen. At L4-L5:  there is loss of disc height and hydration. There is small posterior disc osteophyte complex with   retrolisthesis and ligamentum flavum hypertrophy causing mild to moderate thecal sac and severe bilateral neural foraminal stenosis. The disc is abutting bilateral exiting L4 nerve roots. Bilateral ligamentum flavum and facet joint hypertrophy seen. Posterior annular fissure is seen. At L5-S1: The disc height is maintained with loss of hydration. There is diffuse disc bulge  without significant spinal canal or neural foraminal stenosis. Mild ligamentum flavum and facet joint hypertrophy is seen. Minimal lower paraspinal soft tissue oedema is seen. Evaluation of sacro-iliac joints is limited. \\u00a0canal\\u00a0diameter at L1 to L5 levels: AP mm Mild hepatosplenomegaly is seen. Few prominent retroperitoneal lymph nodes are seen.\"\n        ],\n        \"semantic_type\": \"\",\n        \"description\": \"\"\n      }\n    },\n    {\n      \"column\": \"Impression\",\n      \"properties\": {\n        \"dtype\": \"string\",\n        \"num_unique_values\": 258,\n        \"samples\": [\n          \"Patchy subchondral marrow edema along lateral tibial plateau with signal abnormality of overlying cartilage in posterior aspect. Minimal fluid signal in knee joint space. Grade II sprain of anterior cruciate ligament with mild ligament laxity. Minor sprain of medial collateral ligament. Attenuated anterior horn of medial meniscus with fraying. Lobulated T2 hyperintense cyst in close relation to anterior horn of medial meniscus extending to Hoffa's fat pad, possibly represent parameniscal cyst. Grade II signal in posterior horn of medial meniscus - degenerative. Another lobulated T2 hyperintense lesion in infrapatellar fat pad extending to soft tissues anterior to patellar tendon and pretibial soft tissues through a defect in patellar retinaculum and patellar tendon in medial aspect. Cyst possibly is seen communicating with medial parameniscal cyst. Differentials include ganglion cyst /extension of parameniscal cyst.\",\n          \"T1 hypointense and T2 hyperintense lesion centred along right ala of sacrum involving S1, S2 and S3 vertebral bodies. The lesion is encroaching into right sided sacral neural foramen. Resultant severe spinal canal, right sided neural foraminal stenosis. Associated soft tissue component is seen extending to prevertebral, right paravertebral and right paraspinal soft tissues with mild edema. STIR hyperintense lesion in right ilium. Findings are more in favor of neoplastic process, possibly metastasis.  Mild to moderate  lumbar spondylosis. At L2-L3: Diffuse disc bulge with posterior disc osteophyte protrusion causing mild to moderate thecal sac stenosis. No significant neural foraminal stenosis. Mild ligamentum flavum and facet joint hypertrophy. At L4-L5: Diffuse disc bulge with small postero-central disc protrusion without significant spinal canal stenosis. Moderate bilateral neural foraminal stenosis with disc abutting bilateral exiting L4 nerve roots. Bilateral ligamentum flavum and facet joint hypertrophy. Posterior annular fissure. At L5-S1: Diffuse disc bulge with posterior-central and left subarticular disc protrusion. The disc is abutting left traversing S1 nerve root. No significant thecal sac stenosis. Mild to moderate bilateral neural foraminal stenosis. Bilateral ligamentum flavum and facet joint hypertrophy. Posterior annular fissure.\",\n          \"Absent contrast opacification of right anterior tibial artery in distal leg at the level of fracture of tibia , possibly due to thrombosis. Reconstitution of anterior tibial / dorsalis pedis artery anterior to talus. Peroneal artery not seen opacified with contrast in right distal leg at the level of fracture fibula , could be due to thrombosis. Both bone fractures of right lower limb as described above.\"\n        ],\n        \"semantic_type\": \"\",\n        \"description\": \"\"\n      }\n    }\n  ]\n}"
            }
          },
          "metadata": {},
          "execution_count": 4
        }
      ]
    },
    {
      "cell_type": "code",
      "source": [
        "# Combine the text columns into a single input for training\n",
        "df['input_text'] = df['Report Name'] + \" \" + df['History'] + \" \" + df['Observation']\n",
        "\n",
        "# Split the dataset into training and evaluation sets\n",
        "train_samples = df.sample(n=300, random_state=42)\n",
        "eval_samples = df.drop(train_samples.index)"
      ],
      "metadata": {
        "id": "QOf_QgUZdEid"
      },
      "execution_count": null,
      "outputs": []
    },
    {
      "cell_type": "code",
      "source": [
        "print(f'Training samples: {len(train_samples)}')\n",
        "print(f'Evaluation samples: {len(eval_samples)}')"
      ],
      "metadata": {
        "colab": {
          "base_uri": "https://localhost:8080/"
        },
        "id": "ZkC_cKETdPDk",
        "outputId": "06518e26-6abe-45c0-da7a-5563178d301e"
      },
      "execution_count": null,
      "outputs": [
        {
          "output_type": "stream",
          "name": "stdout",
          "text": [
            "Training samples: 300\n",
            "Evaluation samples: 30\n"
          ]
        }
      ]
    },
    {
      "cell_type": "code",
      "source": [
        "# !pip install transformers"
      ],
      "metadata": {
        "id": "J_WO87nZd9z7"
      },
      "execution_count": null,
      "outputs": []
    },
    {
      "cell_type": "code",
      "source": [
        "# !pip install huggingface-hub\n",
        "from huggingface_hub import login\n",
        "\n",
        "# This will prompt you to enter your Hugging Face token\n",
        "login()"
      ],
      "metadata": {
        "colab": {
          "base_uri": "https://localhost:8080/",
          "height": 145,
          "referenced_widgets": [
            "6c9e71421828427c8dae7f065a8e3287",
            "6e3a874f9571440d9f100246dd157671",
            "ddbdb2e386514627a8a0bdf5305da50b",
            "ec1783b00f34445690622923f3a2990e",
            "2137b932222f446dbbcb920537e0b6c5",
            "23f90379c88147d9bd1cc7bd8cc7cff9",
            "3ed8381114c1490791701fddb40532b1",
            "9a4af1eb4ba94cfdbc1f1845cd1b605a",
            "0bd439a5aca34f4182d74acb35c842b8",
            "e64642e5c94948228d2c3042816c0afa",
            "f64fa501ed8747d2a973c867dbc6a58d",
            "651032896c434889922d4db1d7adb557",
            "f2fac3926121468da7d9b77251701373",
            "25d2377e731e489d851941c8d01dc099",
            "0c45c06932d44d28a69d141d588bb564",
            "eb4134dd0dc74707b151110b8aa1cc9d",
            "35dbd1c7ffc948869498f1a57f1d6f65",
            "2b05518b15cf4b93b9c29e59b1706e05",
            "b18d11b2ac5b4b5ba096085c2c065108",
            "affeea0670154ad0aa926b6ea13292f6",
            "d06cd32e764447e291c886bcf7bc5ec0",
            "86a8d387494741f58f11bb2834e058c2",
            "ab9fbc5e9eaf4cef916e36d9978b3f8e",
            "042c5c74755c48ad8be33c94775db9ed",
            "536aa28b77bc4dd49155da6ac6e8832f",
            "364eab213c9748058f011c892577685a",
            "60e8892b472740539dda875c71b676bd",
            "db0487dcab0c4df1962299870df7d2a6",
            "89a0b2b0ec7a4c5bb8aea591e9cce66f",
            "ce2aa4ae40ce47daa99481037ba931ea",
            "3544295c7d4c474a8c74aafc6c5935f1",
            "20aa851ebf9144f2a9ee0927243be6e1"
          ]
        },
        "id": "NVwXPXHofKko",
        "outputId": "f437cc42-09cb-4109-e392-5d3d97d88040"
      },
      "execution_count": 25,
      "outputs": [
        {
          "output_type": "display_data",
          "data": {
            "text/plain": [
              "VBox(children=(HTML(value='<center> <img\\nsrc=https://huggingface.co/front/assets/huggingface_logo-noborder.sv…"
            ],
            "application/vnd.jupyter.widget-view+json": {
              "version_major": 2,
              "version_minor": 0,
              "model_id": "6c9e71421828427c8dae7f065a8e3287"
            }
          },
          "metadata": {}
        }
      ]
    },
    {
      "cell_type": "code",
      "source": [
        "# !pip install transformers datasets torch rouge-score tqdm seaborn matplotlib\n"
      ],
      "metadata": {
        "id": "O4nz07AHdZAs"
      },
      "execution_count": 17,
      "outputs": []
    },
    {
      "cell_type": "code",
      "source": [
        "import torch\n",
        "from transformers import AutoTokenizer, AutoModelForSeq2SeqLM, Trainer, TrainingArguments\n",
        "from datasets import Dataset\n",
        "from sklearn.model_selection import train_test_split\n",
        "from tqdm import tqdm\n",
        "import pandas as pd\n",
        "import numpy as np\n",
        "import gc\n",
        "from nltk.corpus import stopwords\n",
        "from nltk.stem import PorterStemmer, WordNetLemmatizer\n",
        "from sklearn.metrics.pairwise import cosine_similarity\n",
        "import seaborn as sns\n",
        "import matplotlib.pyplot as plt\n",
        "from collections import Counter"
      ],
      "metadata": {
        "id": "Uakj8mvqtKr7"
      },
      "execution_count": 18,
      "outputs": []
    },
    {
      "cell_type": "code",
      "source": [
        "import nltk\n",
        "nltk.download('stopwords')\n",
        "nltk.download('wordnet')"
      ],
      "metadata": {
        "colab": {
          "base_uri": "https://localhost:8080/"
        },
        "id": "cbsi49R8vZI6",
        "outputId": "c398b701-e846-478c-d560-e14abfd0ac0c"
      },
      "execution_count": 19,
      "outputs": [
        {
          "output_type": "stream",
          "name": "stderr",
          "text": [
            "[nltk_data] Downloading package stopwords to /root/nltk_data...\n",
            "[nltk_data]   Package stopwords is already up-to-date!\n",
            "[nltk_data] Downloading package wordnet to /root/nltk_data...\n",
            "[nltk_data]   Package wordnet is already up-to-date!\n"
          ]
        },
        {
          "output_type": "execute_result",
          "data": {
            "text/plain": [
              "True"
            ]
          },
          "metadata": {},
          "execution_count": 19
        }
      ]
    },
    {
      "cell_type": "code",
      "source": [
        "stop_words = set(stopwords.words('english'))\n",
        "stemmer = PorterStemmer()\n",
        "lemmatizer = WordNetLemmatizer()"
      ],
      "metadata": {
        "id": "8NJsKzjmvbhk"
      },
      "execution_count": 20,
      "outputs": []
    },
    {
      "cell_type": "code",
      "source": [
        "df = pd.read_csv(\"/content/drive/MyDrive/5c Networks /impression_300_llm.csv\")"
      ],
      "metadata": {
        "id": "-DdT35O0vdXk"
      },
      "execution_count": 21,
      "outputs": []
    },
    {
      "cell_type": "code",
      "source": [
        "def preprocess_text(df):\n",
        "    df = df.dropna(subset=['Report Name', 'History', 'Observation', 'Impression'])\n",
        "    df['input_text'] = df['Report Name'] + ' ' + df['History'] + ' ' + df['Observation']\n",
        "    df = df[['input_text', 'Impression']]\n",
        "    return df"
      ],
      "metadata": {
        "id": "fuG94ZIqvjMX"
      },
      "execution_count": 22,
      "outputs": []
    },
    {
      "cell_type": "code",
      "source": [
        "# Select 300 samples for training and 30 samples for evaluation\n",
        "train_samples, eval_samples = train_test_split(df, test_size=30, random_state=42)\n",
        "train_samples = preprocess_text(train_samples)\n",
        "eval_samples = preprocess_text(eval_samples)"
      ],
      "metadata": {
        "id": "4Zkmv_qWvlZg"
      },
      "execution_count": 23,
      "outputs": []
    },
    {
      "cell_type": "code",
      "source": [
        "# Load the tokenizer and model (using Gemma 2B model)\n",
        "model_name = \"gemma-2b-it\"\n",
        "tokenizer = AutoTokenizer.from_pretrained(model_name)\n",
        "model = AutoModelForSeq2SeqLM.from_pretrained(model_name)"
      ],
      "metadata": {
        "id": "1UV39NdivnAa"
      },
      "execution_count": null,
      "outputs": []
    },
    {
      "cell_type": "code",
      "source": [
        "# Tokenization function to process inputs and labels\n",
        "def tokenize_function(samples, batch_size=8):\n",
        "    inputs = []\n",
        "    labels = []\n",
        "\n",
        "    for i in tqdm(range(0, len(samples), batch_size)):\n",
        "        batch_samples = samples.iloc[i:i+batch_size]\n",
        "        input_batch = tokenizer(batch_samples[\"input_text\"].tolist(), max_length=512, truncation=True, padding=\"max_length\", return_tensors='pt')\n",
        "        label_batch = tokenizer(batch_samples[\"Impression\"].tolist(), max_length=512, truncation=True, padding=\"max_length\", return_tensors='pt')[\"input_ids\"]\n",
        "\n",
        "        inputs.append(input_batch)\n",
        "        labels.append(label_batch)\n",
        "\n",
        "    # Concatenate batches\n",
        "    inputs = {key: torch.cat([batch[key] for batch in inputs], dim=0) for key in inputs[0]}\n",
        "    labels = torch.cat(labels, dim=0)\n",
        "    inputs[\"labels\"] = labels\n",
        "\n",
        "    return inputs"
      ],
      "metadata": {
        "id": "3ZYY7iKyvouN"
      },
      "execution_count": null,
      "outputs": []
    },
    {
      "cell_type": "code",
      "source": [
        "# Tokenize training and evaluation data\n",
        "train_encodings = tokenize_function(train_samples)\n",
        "eval_encodings = tokenize_function(eval_samples)"
      ],
      "metadata": {
        "id": "l-wavdB3v57Y"
      },
      "execution_count": null,
      "outputs": []
    },
    {
      "cell_type": "code",
      "source": [
        "gc.collect()\n"
      ],
      "metadata": {
        "id": "GtCWFRr-v7cT"
      },
      "execution_count": null,
      "outputs": []
    },
    {
      "cell_type": "code",
      "source": [
        "# Define Hugging Face Trainer and Training Arguments\n",
        "training_args = TrainingArguments(\n",
        "    output_dir=\"./results\",\n",
        "    evaluation_strategy=\"epoch\",\n",
        "    save_strategy=\"epoch\",\n",
        "    logging_dir=\"./logs\",\n",
        "    logging_steps=10,\n",
        "    num_train_epochs=3,\n",
        "    per_device_train_batch_size=2,\n",
        "    per_device_eval_batch_size=2,\n",
        "    gradient_accumulation_steps=4,\n",
        "    fp16=True,\n",
        ")"
      ],
      "metadata": {
        "id": "iJRxerDMv9AS"
      },
      "execution_count": null,
      "outputs": []
    },
    {
      "cell_type": "code",
      "source": [
        "# Define Trainer\n",
        "trainer = Trainer(\n",
        "    model=model,\n",
        "    args=training_args,\n",
        "    train_dataset=Dataset.from_dict(train_encodings),\n",
        "    eval_dataset=Dataset.from_dict(eval_encodings),\n",
        "    tokenizer=tokenizer,\n",
        ")"
      ],
      "metadata": {
        "id": "zJWBgge8wAUy"
      },
      "execution_count": null,
      "outputs": []
    },
    {
      "cell_type": "code",
      "source": [
        "trainer.train()\n"
      ],
      "metadata": {
        "id": "3EF9tpOTwB6H"
      },
      "execution_count": null,
      "outputs": []
    },
    {
      "cell_type": "code",
      "source": [
        "def generate_impressions(samples):\n",
        "    generated_impressions = []\n",
        "    for input_text in tqdm(samples[\"input_text\"].tolist()):\n",
        "        inputs = tokenizer(input_text, return_tensors=\"pt\", padding=\"max_length\", truncation=True, max_length=512)\n",
        "        output = model.generate(**inputs)\n",
        "        decoded_output = tokenizer.decode(output[0], skip_special_tokens=True)\n",
        "        generated_impressions.append(decoded_output)\n",
        "    return generated_impressions"
      ],
      "metadata": {
        "id": "wwGCbmDewDln"
      },
      "execution_count": null,
      "outputs": []
    },
    {
      "cell_type": "code",
      "source": [
        "eval_samples['Generated_Impressions'] = generate_impressions(eval_samples)\n"
      ],
      "metadata": {
        "id": "_1iXhIkEwI7d"
      },
      "execution_count": null,
      "outputs": []
    },
    {
      "cell_type": "code",
      "source": [
        "eval_samples.to_csv('generated_impressions.csv', index=False)\n"
      ],
      "metadata": {
        "id": "vqbiii9hwKac"
      },
      "execution_count": null,
      "outputs": []
    },
    {
      "cell_type": "code",
      "source": [
        "# Evaluation Metrics: Perplexity and ROUGE Score\n",
        "from transformers import pipeline\n",
        "from rouge_score import rouge_scorer"
      ],
      "metadata": {
        "id": "ceidksN1wL1k"
      },
      "execution_count": null,
      "outputs": []
    },
    {
      "cell_type": "code",
      "source": [
        "# Compute Perplexity\n",
        "def compute_perplexity(eval_samples):\n",
        "    perplexities = []\n",
        "    for i, text in enumerate(eval_samples[\"Generated_Impressions\"]):\n",
        "        with torch.no_grad():\n",
        "            inputs = tokenizer(text, return_tensors=\"pt\", padding=\"max_length\", truncation=True, max_length=512)\n",
        "            loss = model(**inputs, labels=inputs[\"input_ids\"]).loss\n",
        "            perplexity = torch.exp(loss).item()\n",
        "            perplexities.append(perplexity)\n",
        "    return np.mean(perplexities)\n"
      ],
      "metadata": {
        "id": "UX03QDdJwOVr"
      },
      "execution_count": null,
      "outputs": []
    },
    {
      "cell_type": "code",
      "source": [
        "avg_perplexity = compute_perplexity(eval_samples)\n",
        "print(f\"Average Perplexity: {avg_perplexity}\")"
      ],
      "metadata": {
        "id": "nPCPj0NBwRYB"
      },
      "execution_count": null,
      "outputs": []
    },
    {
      "cell_type": "code",
      "source": [
        "# Compute ROUGE Score\n",
        "def compute_rouge(eval_samples):\n",
        "    scorer = rouge_scorer.RougeScorer(['rouge1', 'rougeL'], use_stemmer=True)\n",
        "    rouge_scores = []\n",
        "    for i, row in eval_samples.iterrows():\n",
        "        score = scorer.score(row['Impression'], row['Generated_Impressions'])\n",
        "        rouge_scores.append(score)\n",
        "    return rouge_scores\n",
        "\n",
        "rouge_scores = compute_rouge(eval_samples)"
      ],
      "metadata": {
        "id": "bhlSl4mmwS43"
      },
      "execution_count": null,
      "outputs": []
    },
    {
      "cell_type": "code",
      "source": [
        "# Display ROUGE scores\n",
        "rouge_1_f1 = np.mean([score['rouge1'].fmeasure for score in rouge_scores])\n",
        "rouge_l_f1 = np.mean([score['rougeL'].fmeasure for score in rouge_scores])\n",
        "print(f\"Average ROUGE-1 F1 Score: {rouge_1_f1}\")\n",
        "print(f\"Average ROUGE-L F1 Score: {rouge_l_f1}\")"
      ],
      "metadata": {
        "id": "zs9bwmt5wU4B"
      },
      "execution_count": null,
      "outputs": []
    },
    {
      "cell_type": "code",
      "source": [
        "def process_text(samples):\n",
        "    processed_text = []\n",
        "\n",
        "    for text in samples['input_text']:\n",
        "        words = text.split()\n",
        "        words = [word for word in words if word.lower() not in stop_words]\n",
        "        words = [stemmer.stem(word) for word in words]  # Stemming\n",
        "        words = [lemmatizer.lemmatize(word) for word in words]  # Lemmatization\n",
        "        processed_text.append(\" \".join(words))\n",
        "\n",
        "    return processed_text"
      ],
      "metadata": {
        "id": "D9i6_brEwW8c"
      },
      "execution_count": null,
      "outputs": []
    },
    {
      "cell_type": "code",
      "source": [
        "df['Processed_Text'] = process_text(df)\n"
      ],
      "metadata": {
        "id": "I0HXuRtdwfCi"
      },
      "execution_count": null,
      "outputs": []
    },
    {
      "cell_type": "code",
      "source": [
        "def compute_embeddings(processed_text):\n",
        "    embeddings = []\n",
        "    for text in tqdm(processed_text):\n",
        "        inputs = tokenizer(text, return_tensors=\"pt\", padding=\"max_length\", truncation=True, max_length=512)\n",
        "        outputs = model(**inputs)\n",
        "        embeddings.append(outputs.last_hidden_state.mean(dim=1).detach().numpy())\n",
        "    return np.vstack(embeddings)\n",
        "\n",
        "embeddings = compute_embeddings(df['Processed_Text'])"
      ],
      "metadata": {
        "id": "l_rJ2qUXwgs8"
      },
      "execution_count": null,
      "outputs": []
    },
    {
      "cell_type": "code",
      "source": [
        "def get_top_word_pairs(embeddings, df, num_pairs=100):\n",
        "    similarity_matrix = cosine_similarity(embeddings)\n",
        "    word_pairs = []\n",
        "\n",
        "    for i in range(len(df)):\n",
        "        for j in range(i + 1, len(df)):\n",
        "            if len(word_pairs) < num_pairs:\n",
        "                word_pairs.append((df['Processed_Text'].iloc[i], df['Processed_Text'].iloc[j], similarity_matrix[i, j]))\n",
        "            else:\n",
        "                break\n",
        "    return sorted(word_pairs, key=lambda x: x[2], reverse=True)[:num_pairs]\n",
        "\n",
        "top_word_pairs = get_top_word_pairs(embeddings, df)"
      ],
      "metadata": {
        "id": "0vihGUzUwkth"
      },
      "execution_count": null,
      "outputs": []
    },
    {
      "cell_type": "code",
      "source": [
        "# Visualization of top 100 word pairs\n",
        "def plot_similarity_pairs(top_word_pairs):\n",
        "    words = [f\"{pair[0]} <-> {pair[1]}\" for pair in top_word_pairs]\n",
        "    similarities = [pair[2] for pair in top_word_pairs]\n",
        "\n",
        "    plt.figure(figsize=(10, 6))\n",
        "    sns.barplot(x=similarities, y=words)\n",
        "    plt.title(\"Top 100 Word Pairs Based on Embedding Similarity\")\n",
        "    plt.xlabel(\"Cosine Similarity\")\n",
        "    plt.ylabel(\"Word Pairs\")\n",
        "    plt.show()"
      ],
      "metadata": {
        "id": "3UxlMsKNwqjL"
      },
      "execution_count": null,
      "outputs": []
    },
    {
      "cell_type": "code",
      "source": [
        "plot_similarity_pairs(top_word_pairs)\n"
      ],
      "metadata": {
        "id": "_xZukLBkwtIS"
      },
      "execution_count": null,
      "outputs": []
    },
    {
      "cell_type": "code",
      "source": [
        "# Free up memory after execution\n",
        "gc.collect()\n"
      ],
      "metadata": {
        "id": "qjX--lzIwu2U"
      },
      "execution_count": null,
      "outputs": []
    },
    {
      "cell_type": "markdown",
      "source": [
        "# Key Features of This Code\n",
        "\n",
        "- **Model Fine-tuning**: The code fine-tunes the Gemma 2B model on a specified dataset to generate impressions based on given report details.\n",
        "\n",
        "- **Evaluation**: The model generates impressions for evaluation samples and computes metrics like Perplexity and ROUGE scores.\n",
        "\n",
        "- **Text Analysis**: The code processes the entire dataset by removing stop words, applying stemming and lemmatization, and converting the text into embeddings.\n",
        "\n",
        "- **Similarity Detection**: The top 100 pairs of words based on embedding similarity are identified, and a bar plot visualizing these pairs is generated.\n",
        "\n",
        "- **Visualization**: The similarity of the top word pairs is plotted for easy interpretation.\n",
        "\n",
        "# Deliverables for GitHub Repository\n",
        "\n",
        "- All source code used in the notebook.\n",
        "- Documentation that explains:\n",
        "  - Your approach to model fine-tuning and evaluation.\n",
        "  - Text analysis methodologies and any assumptions made.\n",
        "- Results of the model evaluation including perplexity and ROUGE scores.\n",
        "- Visualization(s) of the top 100 word pairs.\n",
        "- (Bonus) Interactive visualization code if implemented.\n",
        "- A brief report summarizing findings, challenges, and areas for improvement.\n",
        "\n",
        "# Submission\n",
        "\n",
        "Make sure to upload your dataset to the specified path in the code, and modify the path accordingly. Once everything is complete, create a public GitHub repository and submit the link through the specified submission form by the deadline.\n",
        "\n",
        "# Additional Notes\n",
        "\n",
        "- Ensure all necessary libraries are installed and up-to-date.\n",
        "- Depending on your environment (local vs. cloud), you may need to adjust paths and configurations.\n",
        "- Thoroughly test your code before submission to ensure everything runs smoothly.\n",
        "\n",
        "\n"
      ],
      "metadata": {
        "id": "JIAgENSVw5Cz"
      }
    },
    {
      "cell_type": "code",
      "source": [],
      "metadata": {
        "id": "beDJOI5Xw7tF"
      },
      "execution_count": null,
      "outputs": []
    }
  ]
}